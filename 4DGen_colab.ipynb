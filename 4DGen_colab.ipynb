{
  "cells": [
    {
      "cell_type": "markdown",
      "metadata": {
        "id": "view-in-github"
      },
      "source": [
        "[![Open In Colab](https://colab.research.google.com/assets/colab-badge.svg)](https://colab.research.google.com/github/camenduru/4DGen-colab/blob/main/4DGen_colab.ipynb)"
      ]
    },
    {
      "cell_type": "code",
      "execution_count": null,
      "metadata": {
        "id": "VjYy0F2gZIPR"
      },
      "outputs": [],
      "source": [
        "%cd /content\n",
        "!git clone -b dev https://github.com/camenduru/4DGen\n",
        "%cd /content/4DGen\n",
        "\n",
        "!wget https://huggingface.co/camenduru/4DGen/resolve/main/rose.zip\n",
        "!unzip /content/4DGen/rose.zip\n",
        "# !wget https://huggingface.co/camenduru/4DGen/resolve/main/beluga.zip\n",
        "# !unzip /content/4DGen/beluga.zip\n",
        "# !wget https://huggingface.co/camenduru/4DGen/resolve/main/duck.zip\n",
        "# !unzip /content/4DGen/duck.zip\n",
        "# !wget https://huggingface.co/camenduru/4DGen/resolve/main/fish.zip\n",
        "# !unzip /content/4DGen/fish.zip\n",
        "# !wget https://huggingface.co/camenduru/4DGen/resolve/main/heart.zip\n",
        "# !unzip /content/4DGen/heart.zip\n",
        "# !wget https://huggingface.co/camenduru/4DGen/resolve/main/orca.zip\n",
        "# !unzip /content/4DGen/orca.zip\n",
        "# !wget https://huggingface.co/camenduru/4DGen/resolve/main/penguin.zip\n",
        "# !unzip /content/4DGen/penguin.zip\n",
        "# !wget https://huggingface.co/camenduru/4DGen/resolve/main/tulip.zip\n",
        "# !unzip /content/4DGen/tulip.zip\n",
        "\n",
        "\n",
        "!pip install -q https://github.com/camenduru/wheels/releases/download/colab/mmcv_full-1.7.1-cp310-cp310-linux_x86_64.whl\n",
        "!pip install -q argparse lpips plyfile diffusers==0.23.1 accelerate rembg\n",
        "!pip install -q kaolin==0.15.0 -f https://nvidia-kaolin.s3.us-east-2.amazonaws.com/torch-2.1.0_cu121.html\n",
        "!pip install -q https://download.pytorch.org/whl/cu121/xformers-0.0.22.post7-cp310-cp310-manylinux2014_x86_64.whl\n",
        "!pip install -q imageio==2.19.3 imageio-ffmpeg==0.4.7 -U\n",
        "\n",
        "!git clone --recursive https://github.com/ashawkey/diff-gaussian-rasterization\n",
        "!pip install -v ./diff-gaussian-rasterization\n",
        "!pip install -v ./simple-knn\n",
        "\n",
        "# !python preprocess.py --path /content/4DGen/xxxx\n",
        "# !python preprocess_sync.py --path /content/4DGen/xxxx"
      ]
    },
    {
      "cell_type": "code",
      "execution_count": null,
      "metadata": {},
      "outputs": [],
      "source": [
        "%cd /content/4DGen\n",
        "!python train.py --configs arguments/i2v.py -e rose"
      ]
    },
    {
      "cell_type": "code",
      "execution_count": null,
      "metadata": {},
      "outputs": [],
      "source": [
        "%cd /content/4DGen\n",
        "!python render.py --skip_train --configs arguments/i2v.py --skip_test --model_path \"/content/4DGen/output/xxxx\""
      ]
    }
  ],
  "metadata": {
    "accelerator": "GPU",
    "colab": {
      "gpuType": "T4",
      "provenance": []
    },
    "kernelspec": {
      "display_name": "Python 3",
      "name": "python3"
    },
    "language_info": {
      "name": "python"
    }
  },
  "nbformat": 4,
  "nbformat_minor": 0
}
